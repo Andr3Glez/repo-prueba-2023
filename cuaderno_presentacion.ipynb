{
 "cells": [
  {
   "cell_type": "markdown",
   "id": "11ec6cae",
   "metadata": {},
   "source": [
    "# Intruducción\n",
    "\n",
    "[Wikipedia](https://es.wikipedia.org/)"
   ]
  },
  {
   "cell_type": "markdown",
   "id": "36a63678",
   "metadata": {},
   "source": [
    "![imagen](https://iteso.mx/documents/10448/19542899/logoiteso.png/f48e957e-4f61-4752-b06d-9aa45e6e8414?t=1594744730426)"
   ]
  },
  {
   "cell_type": "markdown",
   "id": "3608c6ba",
   "metadata": {},
   "source": [
    "1. Primer Item\n",
    "2. Segundo\n",
    "3. Tercero\n",
    "\n",
    "+ Item no numerado\n",
    "- Segunod item no numerado"
   ]
  },
  {
   "cell_type": "markdown",
   "id": "ccb711ae",
   "metadata": {},
   "source": [
    "````\n",
    "import pandas as pd\n",
    "import numpy as np\n",
    "import matplotlib.pyplot as plt\n",
    "````"
   ]
  }
 ],
 "metadata": {
  "kernelspec": {
   "display_name": "Python 3 (ipykernel)",
   "language": "python",
   "name": "python3"
  },
  "language_info": {
   "codemirror_mode": {
    "name": "ipython",
    "version": 3
   },
   "file_extension": ".py",
   "mimetype": "text/x-python",
   "name": "python",
   "nbconvert_exporter": "python",
   "pygments_lexer": "ipython3",
   "version": "3.9.7"
  }
 },
 "nbformat": 4,
 "nbformat_minor": 5
}
